{
  "nbformat": 4,
  "nbformat_minor": 0,
  "metadata": {
    "colab": {
      "name": "Tweets.ipynb",
      "provenance": []
    },
    "kernelspec": {
      "name": "python3",
      "display_name": "Python 3"
    }
  },
  "cells": [
    {
      "cell_type": "code",
      "metadata": {
        "id": "fMOXjON1Mh-l"
      },
      "source": [
        "import requests\r\n",
        "import bs4\r\n",
        "from bs4 import BeautifulSoup\r\n",
        "from requests_oauthlib import OAuth1"
      ],
      "execution_count": 1,
      "outputs": []
    },
    {
      "cell_type": "code",
      "metadata": {
        "id": "YfmzKVmOM0kD"
      },
      "source": [
        "auth_params = {\r\n",
        "    'app_key':'wYLUKXZxstEWiPsJh7V6N4er1',\r\n",
        "    'app_secret':'mWz3DIEZuRqxaCDDu8f4f63lo42u7UQq7UpbFR796uQPfmeJEd',\r\n",
        "    'oauth_token':'1255481526848028676-qxLaA8qhpJpnyBUQBp8d8d5C4rMQS6',\r\n",
        "    'oauth_token_secret':'r3aEj7OW2kJhS7dfLA6AJw5uMBegUFZQHi4ps6ZWtl2Vz'\r\n",
        "}\r\n",
        "\r\n",
        "auth = OAuth1 (\r\n",
        "    auth_params['app_key'],\r\n",
        "    auth_params['app_secret'],\r\n",
        "    auth_params['oauth_token'],\r\n",
        "    auth_params['oauth_token_secret']\r\n",
        ")"
      ],
      "execution_count": 2,
      "outputs": []
    },
    {
      "cell_type": "code",
      "metadata": {
        "id": "tLmLw4LTN2dh"
      },
      "source": [
        "\r\n",
        "# url according to twitter API\r\n",
        "url_rest = \"https://api.twitter.com/1.1/search/tweets.json\"\r\n",
        "\r\n",
        "# getting rid of retweets in the extraction results and filtering all replies to the tweet often uncessary for the analysis\r\n",
        "q = '%40Facebook -filter:retweets -filter:replies' # Twitter handle of Amazon India\r\n",
        "\r\n",
        "# count : no of tweets to be retrieved per one call and parameters according to twitter API\r\n",
        "params = {'q': q, 'count': 100, 'lang': 'en',  'result_type': 'recent'}\r\n",
        "results = requests.get(url_rest, params=params, auth=auth)"
      ],
      "execution_count": 5,
      "outputs": []
    },
    {
      "cell_type": "code",
      "metadata": {
        "colab": {
          "base_uri": "https://localhost:8080/"
        },
        "id": "gKrC69qGOMXq",
        "outputId": "05b6393a-5547-4396-a4ff-1215327eb54f"
      },
      "source": [
        "tweets = results.json()\r\n",
        "\r\n",
        "messages = [BeautifulSoup(tweet['text'], 'html5lib').get_text() for tweet in tweets['statuses']]\r\n",
        "print(messages)"
      ],
      "execution_count": 6,
      "outputs": [
        {
          "output_type": "stream",
          "text": [
            "['The #DownToOne music video premieres 2/1 at 5pm CT exclusively on my @Facebook page. RSVP to my event to get notifi… https://t.co/PAxlaiCT4w', 'Late night reminder to hold the line! We are seeing a digital revolution beginning to unfold before our eyes!… https://t.co/jXx1cfifSO', \"Apparently @Facebook has decided that I'm a bad boy because I called someone ignorant. Oh well. 🤷🏻\\u200d♂️ https://t.co/PK3JlxOJD0\", 'We have been busy sharing and supporting the work of so many amazing women over on our @Facebook\\n page. Here is our… https://t.co/Su1u5X6HS2', 'Still to come with @lawlor_aine and @AengusCox \\n\\n🎙️ Dr Colm Henry @CcoHse on #AstraZeneca #ZeroCovid \\n\\n🎙️… https://t.co/he4ZiWUEI1', 'The people that work for @Facebook spend half their time trying to be offended the other half being terrified by mi… https://t.co/DnjQrizBCO', 'I wonder if the @Facebook symbol would show up in the dictionary next to hypocrisy', 'Nah @Facebook, what the fuck?😂 https://t.co/ETrwxghPCH', 'This is absolute brainwash hog. Pay your taxes @Google. You too @Facebook, @Apple, @newscorp & any other company fa… https://t.co/uyYaq2Fh5a', 'Joining the Ministry of Truth recently @RobinhoodApp  alongside with @Twitter, @Facebook and @Cloudflare.', \"My good morning for all #jameskennedyuk fan's 💯👇💯the best @facebook @instagram @twitter @soundcloud @youtube… https://t.co/ExAvlqJvRJ\", 'Looks like 2021 is going to see a lot of mainstream players get cosy with some or the other newsletter product. Aft… https://t.co/R1z6eFpJSD', 'facebook blocked me :/ @Facebook can you unblock me from sharing thanks', 'My good morning from #frankfurt #misfits #jameskennedy #catsouthall #kyshera #konicrecords #Misfitsworldwide 💯👇💯the… https://t.co/aqVmJE4WEE', 'Fck the @Facebook oversight board - a bunch of placemen, who are told what they are allowed to investigate by their… https://t.co/AjcUss3kVL', 'This is why I don’t use Facebook anymore. \\nAccording to \\u2066@Facebook\\u2069 Board statements referring to “Muslims as menta… https://t.co/pWwoJQJGca', \"Iiiiitttt'sss StartUp 2021 Ireland day! Super excited to host a programme of experts, entrepreneurs, editors to hel… https://t.co/6DQ0fU6gPF\", \"Typing and checking the @Facebook link below on your @googlechrome or any browser tells if you're a trustworthy per… https://t.co/piz2GcKgfD\", '\"Super seller\" of illegal #ivory, #tiger & other wildlife on @Facebook\\n\\nThanks to #Facebook Marketplace, Vietnamese… https://t.co/M4efoP8OfI', '\"Online violence leads to real world violence.\"\\n\\n@Facebook\\'s latest PR offensive \"@OversightBoard\" is a sham. \\n\\nThe… https://t.co/NVnw78oj4H', \"Hey @Facebook! This guy seems to be threatening to assassinate the President of the United States, but you're telli… https://t.co/lLvqADHOKb\", 'Dear @Apple ,\\nWhy can’t we change the skin tone of the reaction emojis on @facebook messenger? Come on now!', 'OH, @Facebook, @fbnewsroom... so an dehumanizing and racist image depicting @VP as a camel being ridden by @POTUS i… https://t.co/32U58CG1xM', 'Short @Facebook #diem !\\n\\n#wallstreetbets #RobinHood #gamestonk #cryptocurrency #Crypto #SocialMedia #socialmediamarketing #social', 'Yo @Facebook  someone hacked my stuff. And my acct is being permanently disabled?? Please fix this! 😭 https://t.co/3zJUvOQYt2', 'Good Morning @Facebook @FacebookDE :) \\nAny chance you found a solution to our hackers problem yet?', 'Journey towards 5k followers @FacebookGaming  @Facebook @CORSAIR @CoolerMaster @antec @PUBG @Hawkinz @PUBGEsports… https://t.co/XW7UxtX5px', 'WELCOME YOUR SOCIALIST COMMUNISTS PARTY THANKS TO COWARDS HIDING BEHIND 230 LIKE ALL STOCKHOLDERS OF @Twitter… https://t.co/DvPATRhklr', 'Hey @Facebook  ID not opening even after confirming identity\\nPlease please recover my Facebook account… https://t.co/2dOHvT1DoI', '.@Facebook Can you see your fault? The background message is about my submitted documents review, but your new warn… https://t.co/dnV8AksHOM', 'CHECK OUT MY FACEBOOK SHOP! https://t.co/GWuR6EPNdI @facebook #jewellery #fashion #valentinesday', 'Thanks @Facebook for unpublishing my page AGAIN, I’m so over using your shitty service.', \"What does @Facebook's supreme court's first decisions mean for #Palestinians and human rights activists? https://t.co/dzIuE28QUc\", \".@Facebook's lawsuit vs. @Apple focuses on Apple's updated privacy policy – Apple consumers now have to opt in to s… https://t.co/5Ee2kEVzmG\", \".@Facebook's oversight board issued its first rulings on Thursday, overturning four of five decisions to remove con… https://t.co/yvbILzEK6e\", \".@Facebook and @Apple's PR war seriously heats up.\\nhttps://t.co/yDcFfVeyBj\", 'Amateur investors angry after @RobinhoodApp & other online trading apps block buying volatile shares. @Novavax says… https://t.co/xuDIBCDFtL', 'The worst post to tweet on #Twitter is one linked to @Facebook or @instagram ... https://t.co/WdkN7lsGiO', 'These disparities are staggering. I hope that at the end of the pandemic,politicians and business captains rethink… https://t.co/vCiPxJTqiX', 'VCDL @Facebook page removed (again). Follow us on @mewe Ed \\nhttps://t.co/E1ZQKpGoN8', 'Hey @Twitter....you want to keep a few of us around? Just add an edit feature & an ‘unlike’ option.\\n\\nAsk your bros… https://t.co/JfjXi4FYlH', 'Respected @PMOIndia , @narendramodi @AmitShah @PrakashJavdekar ji There is a sense of hatred which is going on in t… https://t.co/W8K41gMy9l', 'STOP YOUR LIES!!! @Facebook\\n\\nFacebook Will no Longer Suggest Political Groups to Users Globally, Says Zuckerberg https://t.co/PjocbhzQub', 'India’s population will exceed China by 2025 ..no wonder Global Tech is investing so heavily. #EdTech attracting th… https://t.co/M0j44ydtEd', 'Yea @facebook I’m done deactivating all my accounts this is ridiculous at this point. If we taking things out of co… https://t.co/dwgGORjg8e', 'Lols just @Facebook https://t.co/wEbAsdHSKQ', \"From @marketing_masha \\nColors in #Branding: colors of Alexa's top sites\\n\\n🌈 @Google\\n🌈 @Facebook\\n🌈 @YouTube… https://t.co/wVdZSkf7FW\", 'The final judging process of #IPRCCA has begun. Stay tuned.\\n\\n@Rssamul | @bipchakr, @Facebook | @priyankae4m1 |… https://t.co/CBE4gkNOEP', 'Is #Facebook trying to get us all off ?? They’ve deleted all my posts after 28th September 2020!!! What’s going on… https://t.co/ks78HGVIkw', 'Want to know ‘what’s the go’ with the recent @Google / @Facebook stand-off with the Australian gov?\\n\\nRead on...… https://t.co/a164ph7vkD', \"In this week's Future Focus @bronwynwilliams speaks to Bronwyn Nielsen about censorship: Twitter's Birdwatch,… https://t.co/4fqJ5xYEvA\", 'Show us some #love on our @facebook page https://t.co/cmqlZHyEJV #Flaskman #flask #facebook', 'CHECK OUT MY FACEBOOK SHOP! https://t.co/GWuR6F7oCi @facebook #jewellery #fashion #valentinesday', '💙Join me!:\\n• @discord - https://t.co/EVDEOOACOJ\\n• @Twitch - https://t.co/raGvQDhsh5\\n• @YouTube -… https://t.co/xVuIwUmnux', 'I posted this picture sometimes back on @Facebook @facebookai @facebookapp @FacebookWatch \\nThey labelled it NUDITY… https://t.co/qK40B42ZeP', \"Hey @Facebook I've got a problem. I deactivated my account three or four years ago. Now I went to reactivate it and… https://t.co/nx1g2upeKI\", 'Waiting!!!!!! @Facebook https://t.co/9Vki4FeFoY', 'Listened to the remarkable Kristen Chenowith singing about @VP on @playbill and the @Facebook post was filled with… https://t.co/wW0AHrUoa8', 'So @GooglePlay @Google you want to tell me why your rankings for the platform @RobinhoodApp went up 4 points in 7 h… https://t.co/0eRaZPnJao', 'Everyone blames Mark Zukerberg and @Facebook for @instagram demise, but no one talks about @cameron', \"Why do our phones listen to us when its convenient? They'll send us ads or add something to the algorithm but if yo… https://t.co/vr0fQizxgv\", 'The last 15 seconds of this video will shock you. Help is needed. @InsideEdition @ABC @FoxNews @NBCNews @CBSNews… https://t.co/Gs76GAATTq', 'Replying to @drsimonegold re @Facebook \"mistakes\" on HCQ: Here\\'s an antidote: Reimburse burial expenses to families. https://t.co/QgnGT9lETk', 'Why @Facebook  jani? 😐 https://t.co/iC2uM6Bs83', 'It’s stupid how you can’t delete ppl from @Facebook cause ur banned #BellLetsTalk', 'Story buried by media ... @Twitter @Facebook @Google  @ABC @NPR @CNN https://t.co/54ETK4sVzd', 'Enjoyed “Oh Myh Dating Hell” by @Myhraliza Aala is Possible Productions. Streaming online @fertileground @Facebook. https://t.co/76pzgqYqor', 'Next Friday @Vevo @XITENL @BoomplayMusic @TIDAL @AppleMusic @Facebook  #musicVideo @tristenjmiller #tritri #hypnotic https://t.co/zwc9asFCDR', \"Really sad to see @Facebook @facebookapp doesn't care about their users...after they kicked the world off last week… https://t.co/kbOHV3oe5g\", 'Huahhh , now I gotta make friends on this mf ! Bc of DUMB ASS @Facebook !!!', 'Hi @JoeMontana, this Photoshopped image of you holding a shirt (for sale) was just served to me on @Facebook Ads. I… https://t.co/x9tPvxGkAI', 'I wonder which future genocides @facebook will get all davon haben wir nichts gewusst about 🤔 never again until nex… https://t.co/9HBJgSpH5G', 'For the musicians on my list, which is your preferred social media platform to push your music? #music #producer… https://t.co/2gnVskSRBG', 'Is #Facebook trying to get us all off ?? They’ve deleted all my posts after 28th September 2020!!! What’s going on… https://t.co/n3PuaKsRjq', 'This is terrifying. @Facebook @whatsapp there needs to be a fix to this immediately! Insisting that a victim of a s… https://t.co/gA3JnxW8DC', '#greenhouse agenda would be so much easier without @Facebook @tweet @Google and the s screwed up #MainstreamMedia b… https://t.co/hkYupcUo6N', '#Social: Facebook News\\nStep change in the social media giant’s relationship with UK content publishers\\n@Facebook… https://t.co/NkQ4pYvOKt', 'Since when is checking in on @Facebook somewhere and hashtag  @UberEats  against community guidelines tf https://t.co/SX38uGMZNG', \"Y'all I'm not alone that Facebook account suddenly just logged out. Saw a lot of people ranting about it too. What… https://t.co/aInyXx3sTB\", 'Seriously @Facebook STOP IT. https://t.co/EjtssH7oYH', 'Left: Me & my Art\\nRight: @ArianaGrande & my Art\\n\\nThis is my profession. If you appreciate my art, & would like to r… https://t.co/xPyyZlJ7c3', 'By the way, it was in a @facebook post that did not violate their Community Standards. So the keywords Rothschild i… https://t.co/a7MX0Ec4fa', \"Delhi House Panel Cannot Deal With 'Law And Order' As It Is Union's Subject : Salve Submits For Facebook VP… https://t.co/7uCj1edsyy\", \"Delhi House Panel Cannot Deal With 'Law And Order' As It Is Union's Subject : Salve Submits For Facebook VP… https://t.co/Si4YTmeGxi\", \"Delhi House Panel Cannot Deal With 'Law And Order' As It Is Union's Subject : Salve Submits For Facebook VP… https://t.co/QoGsCZXkYU\", \"Delhi House Panel Cannot Deal With 'Law And Order' As It Is Union's Subject : Salve Submits For Facebook VP… https://t.co/vxqWmkT89I\", 'Will @Facebook be held accountable for murder? https://t.co/eC5nuwjrpb', \"Delhi House Panel Cannot Deal With 'Law And Order' As It Is Union's Subject : Salve Submits For Facebook VP… https://t.co/2AMjTmhsZ6\", 'Why is it okay for @Facebook to punish women for defending themselves but sexual pictures are fine too... https://t.co/fyPZQyIQyy', 'So now @facebook is in on the act like @RobinhoodApp and banning talking about @GameStop shares. #wallstreetbets https://t.co/lcV7a8PFq2', 'After 440,000 Americans are Dead \\n\\n@Facebook \\n\\n& \\n\\nAmerican Journal of Medicine\\n\\nAdmit Their Stand on HCQ was Wrong… https://t.co/rkBjaBGDSA', 'Delete your @Facebook @amazon @Twitter @Google @RobinhoodApp @TDAmeritrade @instagram accounts.  The game is set fo… https://t.co/T3PJX1Fhz6', '差点儿在脸书上上当.\\nAlmost scammed by a Facebook page in Marketplace.\\n@Facebook should have banned it because so@many people were reporting it', \"The KP clowns trying to get Stickboy on @Facebook  shutdown with repeated reports.\\n\\n@Facebook Support won't tell me… https://t.co/s9ECRXEJXV\", 'Really need someone from Facebook looking through this issues, I can’t keep having my ads account disabled every 3 months guys @Facebook', 'It’s been 4 days and my ads account is still disabled like 5 ads account.\\nThis is insane @Facebook', 'I opened my FB and got a notification like this. NEVER in my LIFETIME do I remember losing my mind so much to the p… https://t.co/2cODDrQXEl', 'Love #twitter (22% US adults) and but we’re all kinda pat’n ourselves on the back ignoring the “extreme-middle.”Ame… https://t.co/TnuC9K0jUe', 'Thank you @Twitter @TwitterSupport For the record. @Facebook the only platforms left are @instagram and… https://t.co/wWDqW3V5p8', \".@Facebook @YouTube have blood on their hands. I'm demanding these companies ban Donald Trump permanently and suspe… https://t.co/BQ4f54MizT\"]\n"
          ],
          "name": "stdout"
        }
      ]
    }
  ]
}